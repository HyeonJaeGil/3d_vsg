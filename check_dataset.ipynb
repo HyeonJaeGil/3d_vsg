{
 "cells": [
  {
   "cell_type": "code",
   "execution_count": 43,
   "metadata": {},
   "outputs": [],
   "source": [
    "import os\n",
    "import json\n",
    "import numpy as np\n",
    "from typing import Dict, List, Tuple, Optional\n",
    "import torch\n",
    "import open3d as o3d"
   ]
  },
  {
   "cell_type": "code",
   "execution_count": 44,
   "metadata": {},
   "outputs": [],
   "source": [
    "def format_scan_dict(unformated_dict: Dict, attribute: str) -> Dict:\n",
    "    # Format raw dictionary of object nodes for all scenes\n",
    "    scan_list = unformated_dict[\"scans\"]\n",
    "    formatted_dict = {}\n",
    "    for scan in scan_list:\n",
    "        formatted_dict[scan[\"scan\"]] = scan[attribute]\n",
    "    return formatted_dict\n",
    "\n",
    "\n",
    "def format_sem_seg_dict(sem_seg_dict: Dict) -> Dict:\n",
    "    seg_list = sem_seg_dict[\"segGroups\"]\n",
    "    formatted_dict = {}\n",
    "    for seg in seg_list:\n",
    "        formatted_dict[seg[\"index\"]] = seg\n",
    "    return formatted_dict\n",
    "\n",
    "\n",
    "def get_dataset_files(scan_dir):\n",
    "    object_data = json.load(open(os.path.join(scan_dir, \"3DSSG\", \"objects.json\")))\n",
    "    relationship_data = json.load(open(os.path.join(scan_dir, \"3DSSG\", \"relationships.json\")))\n",
    "    objects_dict = format_scan_dict(object_data, \"objects\")\n",
    "    relationships_dict = format_scan_dict(relationship_data, \"relationships\")\n",
    "    return objects_dict, relationships_dict\n",
    "\n",
    "def get_semseg_files(scan_dir, scan_id):\n",
    "    sem_seg_data = json.load(open(os.path.join(scan_dir, \"semantic_segmentation_data\", scan_id, \"semseg.v2.json\")))\n",
    "    sem_seg_dict = format_sem_seg_dict(sem_seg_data)\n",
    "    return sem_seg_dict\n",
    "\n",
    "def get_annotated_ply(scan_dir, scan_id):\n",
    "    ply_path = os.path.join(scan_dir, \"semantic_segmentation_data\", scan_id, \"labels.instances.annotated.v2.ply\")\n",
    "    o3d_ply = o3d.io.read_point_cloud(ply_path)\n",
    "    return o3d_ply\n"
   ]
  },
  {
   "cell_type": "code",
   "execution_count": 7,
   "metadata": {},
   "outputs": [],
   "source": [
    "root = \"/mnt/Backup/Dataset/3d_vsg/data\"\n",
    "scan_dir = os.path.join(root, \"raw\")\n",
    "scans = json.load(open(os.path.join(scan_dir, \"3RScan.json\")))\n",
    "objects_dict, relationships_dict = get_dataset_files(scan_dir)\n"
   ]
  },
  {
   "cell_type": "code",
   "execution_count": 52,
   "metadata": {},
   "outputs": [],
   "source": [
    "\n",
    "scan_id = \"ddc737b3-765b-241a-9c35-6b7662c04fc9\"\n",
    "sem_seg_dict = get_semseg_files(scan_dir, scan_id)\n",
    "o3d_ply = get_annotated_ply(scan_dir, scan_id)\n",
    "\n",
    "pts = sem_seg_dict[1][\"segments\"]\n",
    "\n",
    "# select points in o3d_ply with pts as indices\n",
    "o3d_ply_selected = o3d_ply.select_by_index(pts)\n",
    "o3d.visualization.draw_geometries([o3d_ply_selected])\n",
    "\n"
   ]
  },
  {
   "cell_type": "code",
   "execution_count": null,
   "metadata": {},
   "outputs": [],
   "source": [
    "for k, v in sem_seg_dict.items():\n",
    "    print(k)\n",
    "    for kk, vv in v.items():\n",
    "        print(kk, vv)\n",
    "    break"
   ]
  },
  {
   "cell_type": "code",
   "execution_count": null,
   "metadata": {},
   "outputs": [],
   "source": [
    "for scan in scans:\n",
    "    for k, v in scan.items():\n",
    "        print(k, v)\n",
    "    print()"
   ]
  },
  {
   "cell_type": "code",
   "execution_count": null,
   "metadata": {},
   "outputs": [],
   "source": [
    "for key, value in objects_dict.items():\n",
    "    print(key, \"total objects:\", len(value))\n",
    "    for obj in value:\n",
    "        new_value = {}\n",
    "        for k, v in obj.items():\n",
    "            if k in {\"ply_color\", \"label\", \"affordances\", \"id\", \"global_id\", \"attributes\"}:\n",
    "                new_value[k] = v\n",
    "        print(new_value)\n",
    "    break"
   ]
  },
  {
   "cell_type": "code",
   "execution_count": null,
   "metadata": {},
   "outputs": [],
   "source": [
    "for key, value in relationships_dict.items():\n",
    "    print(key)\n",
    "    for rel in value:\n",
    "        print(rel)\n",
    "    break"
   ]
  },
  {
   "cell_type": "code",
   "execution_count": null,
   "metadata": {},
   "outputs": [],
   "source": [
    "scan = scans[0]\n",
    "ref_scan_id = scan[\"reference\"]\n",
    "rescan_ids = scan[\"scans\"]"
   ]
  }
 ],
 "metadata": {
  "kernelspec": {
   "display_name": "sg",
   "language": "python",
   "name": "python3"
  },
  "language_info": {
   "codemirror_mode": {
    "name": "ipython",
    "version": 3
   },
   "file_extension": ".py",
   "mimetype": "text/x-python",
   "name": "python",
   "nbconvert_exporter": "python",
   "pygments_lexer": "ipython3",
   "version": "3.10.16"
  }
 },
 "nbformat": 4,
 "nbformat_minor": 2
}
